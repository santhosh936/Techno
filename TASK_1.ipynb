{
 "cells": [
  {
   "cell_type": "markdown",
   "id": "d142f1a7",
   "metadata": {},
   "source": [
    "## STONE  PAPER  SCISSOR  GAME\n",
    "Introduction and game rules"
   ]
  },
  {
   "cell_type": "code",
   "execution_count": 5,
   "id": "3a159bb6",
   "metadata": {},
   "outputs": [
    {
     "name": "stdout",
     "output_type": "stream",
     "text": [
      "STONE, PAPER, SCISSOR SHOWDOWN!\n",
      "         \n",
      "       \n",
      "\n",
      " WINNING RULES FOR THE GAME\n",
      "             \n",
      "            STONE VS PAPER -> PAPER WINS \n",
      "           \n",
      "            STONE VS SCISSOR -> ROCK WINS \n",
      "           \n",
      "            STONE VS SCISSOR -> SCISSOR WINS\n",
      "PICK YOUR CHOICE\n",
      " 1.ROCK \n",
      " 2.PAPER \n",
      " 3.SCISSOR1\n",
      "\n",
      "YOUR PICK: 1\n",
      "\n",
      "YOU CHOSE (PAPER)\n",
      "\n",
      "COMPUTER PICK: 0\n",
      "\n",
      "COMPUTER CHOSE (STONE)\n",
      "\n",
      "You Win\n"
     ]
    }
   ],
   "source": [
    "print('''STONE, PAPER, SCISSOR SHOWDOWN!\n",
    "         \n",
    "       ''')\n",
    "print('''\\n WINNING RULES FOR THE GAME\n",
    "             \n",
    "            STONE VS PAPER -> PAPER WINS \n",
    "           \n",
    "            STONE VS SCISSOR -> ROCK WINS \n",
    "           \n",
    "            STONE VS SCISSOR -> SCISSOR WINS''')\n",
    "\n",
    "#player's choice to pick \n",
    "s_p_s =['(STONE)','(PAPER)','(SCISSOR)']\n",
    "user_c = int(input('''PICK YOUR CHOICE\\n 1.ROCK \\n 2.PAPER \\n 3.SCISSOR'''))\n",
    "print(\"\\nYOUR PICK:\",user_c)\n",
    "print('\\nYOU CHOSE',s_p_s[user_c])\n",
    "#importing random library for computer to pick a random number\n",
    "# setting random no from 0 to 2\n",
    "import random\n",
    "set_no = random.randint(0,2)\n",
    "print(\"\\nCOMPUTER PICK:\",set_no)\n",
    "#computer's choice to pick:\n",
    "computer_c = s_p_s[set_no]\n",
    "print('\\nCOMPUTER CHOSE',computer_c)\n",
    "if user_c == set_no:\n",
    "    print(\"\\nMatch Draw\")\n",
    "elif user_c == 0 and set_no == 1:\n",
    "    print(\"\\n You Lose\")\n",
    "elif user_c == 0 and set_no == 2:\n",
    "    print(\"\\nYou Won\")\n",
    "elif user_c == 1 and set_no == 0:\n",
    "    print(\"\\nYou Win\")\n",
    "elif user_c == 1 and set_no == 2:\n",
    "    print(\"\\nYou Lose\")  \n",
    "elif user_c == 2 and set_no == 0:\n",
    "    print(\"\\nYou Lose\")\n",
    "else:\n",
    "    print(\"\\nYou Won\")\n",
    "\n"
   ]
  },
  {
   "cell_type": "code",
   "execution_count": null,
   "id": "d0a86856",
   "metadata": {},
   "outputs": [],
   "source": []
  }
 ],
 "metadata": {
  "kernelspec": {
   "display_name": "Python 3 (ipykernel)",
   "language": "python",
   "name": "python3"
  },
  "language_info": {
   "codemirror_mode": {
    "name": "ipython",
    "version": 3
   },
   "file_extension": ".py",
   "mimetype": "text/x-python",
   "name": "python",
   "nbconvert_exporter": "python",
   "pygments_lexer": "ipython3",
   "version": "3.11.3"
  }
 },
 "nbformat": 4,
 "nbformat_minor": 5
}
