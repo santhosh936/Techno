{
 "cells": [
  {
   "cell_type": "code",
   "execution_count": 1,
   "id": "3598a12e",
   "metadata": {},
   "outputs": [
    {
     "name": "stdout",
     "output_type": "stream",
     "text": [
      "Hello! I'm a simple chatbot. How can I help you today?\n",
      "You: hi\n",
      "Chatbot: Hello! How can I assist you today?\n",
      "You: how is the weather\n",
      "Chatbot: I can't check the weather right now, but I hope it's nice outside!\n",
      "You: how are you\n",
      "Chatbot: I'm just a bunch of code, but I'm here and ready to assist you!\n",
      "You: date\n",
      "Chatbot: Today's date is 2024-06-29.\n",
      "You: time\n",
      "Chatbot: The current time is 20:57:26.\n",
      "You: joke\n",
      "Chatbot: Why don't scientists trust atoms? Because they make up everything!\n",
      "You: bye\n",
      "Chatbot: Goodbye! Have a great day!\n"
     ]
    }
   ],
   "source": [
    "import re\n",
    "\n",
    "def chatbot():\n",
    "    print(\"Hello! I'm a simple chatbot. How can I help you today?\")\n",
    "    \n",
    "    while True:\n",
    "        user_input = input(\"You: \").strip().lower()\n",
    "        \n",
    "        if user_input in ['hi', 'hello', 'hey', 'hola']:\n",
    "            print(\"Chatbot: Hello! How can I assist you today?\")\n",
    "        elif 'your name' in user_input or 'who are you' in user_input:\n",
    "            print(\"Chatbot: My name is Chatbot. I'm here to help you with basic questions.\")\n",
    "        elif 'weather' in user_input:\n",
    "            print(\"Chatbot: I can't check the weather right now, but I hope it's nice outside!\")\n",
    "        elif 'how are you' in user_input:\n",
    "            print(\"Chatbot: I'm just a bunch of code, but I'm here and ready to assist you!\")\n",
    "        elif re.search(r'\\b(time\\b|\\bcurrent time\\b)', user_input):\n",
    "            from datetime import datetime\n",
    "            current_time = datetime.now().strftime(\"%H:%M:%S\")\n",
    "            print(f\"Chatbot: The current time is {current_time}.\")\n",
    "        elif re.search(r'\\bdate\\b|\\btoday\\b', user_input):\n",
    "            from datetime import datetime\n",
    "            current_date = datetime.now().strftime(\"%Y-%m-%d\")\n",
    "            print(f\"Chatbot: Today's date is {current_date}.\")\n",
    "        elif re.search(r'\\bjoke\\b', user_input):\n",
    "            print(\"Chatbot: Why don't scientists trust atoms? Because they make up everything!\")\n",
    "        elif re.search(r'\\bbye\\b|\\bexit\\b|\\bquit\\b', user_input):\n",
    "            print(\"Chatbot: Goodbye! Have a great day!\")\n",
    "            break\n",
    "        else:\n",
    "            print(\"Chatbot: I'm sorry, I don't understand that. Can you please rephrase?\")\n",
    "            \n",
    "if __name__ == \"__main__\":\n",
    "    chatbot()\n"
   ]
  },
  {
   "cell_type": "code",
   "execution_count": null,
   "id": "a34b8627",
   "metadata": {},
   "outputs": [],
   "source": []
  }
 ],
 "metadata": {
  "kernelspec": {
   "display_name": "Python 3 (ipykernel)",
   "language": "python",
   "name": "python3"
  },
  "language_info": {
   "codemirror_mode": {
    "name": "ipython",
    "version": 3
   },
   "file_extension": ".py",
   "mimetype": "text/x-python",
   "name": "python",
   "nbconvert_exporter": "python",
   "pygments_lexer": "ipython3",
   "version": "3.11.3"
  }
 },
 "nbformat": 4,
 "nbformat_minor": 5
}
