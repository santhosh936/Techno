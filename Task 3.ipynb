{
 "cells": [
  {
   "cell_type": "code",
   "execution_count": 3,
   "id": "16c29ba3",
   "metadata": {},
   "outputs": [],
   "source": [
    "import os\n",
    "import requests\n",
    "import zipfile\n",
    "\n",
    "# URL of the MovieLens dataset\n",
    "url = \"https://files.grouplens.org/datasets/movielens/ml-latest-small.zip\"\n",
    "zip_file = 'ml-latest-small.zip'\n",
    "\n",
    "# Download the dataset\n",
    "response = requests.get(url)\n",
    "with open(zip_file, 'wb') as file:\n",
    "    file.write(response.content)\n",
    "\n",
    "# Extract the dataset\n",
    "with zipfile.ZipFile(zip_file, 'r') as zip_ref:\n",
    "    zip_ref.extractall()\n",
    "\n",
    "# Remove the zip file\n",
    "os.remove(zip_file)\n"
   ]
  },
  {
   "cell_type": "code",
   "execution_count": 4,
   "id": "23e72a40",
   "metadata": {},
   "outputs": [],
   "source": [
    "import pandas as pd\n",
    "\n",
    "# Load the dataset\n",
    "ratings_file = 'ml-latest-small/ratings.csv'\n",
    "movies_file = 'ml-latest-small/movies.csv'\n",
    "\n",
    "ratings = pd.read_csv(ratings_file)\n",
    "movies = pd.read_csv(movies_file)\n",
    "\n",
    "# Merge ratings and movies dataframes\n",
    "data = pd.merge(ratings, movies, on='movieId')\n"
   ]
  },
  {
   "cell_type": "code",
   "execution_count": 5,
   "id": "276131fa",
   "metadata": {},
   "outputs": [],
   "source": [
    "user_movie_matrix = data.pivot_table(index='userId', columns='title', values='rating')\n"
   ]
  },
  {
   "cell_type": "code",
   "execution_count": 6,
   "id": "e6f22c84",
   "metadata": {},
   "outputs": [],
   "source": [
    "from sklearn.metrics.pairwise import cosine_similarity\n",
    "\n",
    "# User-based collaborative filtering\n",
    "user_similarity = cosine_similarity(user_movie_matrix.fillna(0))\n",
    "user_similarity_df = pd.DataFrame(user_similarity, index=user_movie_matrix.index, columns=user_movie_matrix.index)\n"
   ]
  },
  {
   "cell_type": "code",
   "execution_count": 7,
   "id": "2ca79555",
   "metadata": {},
   "outputs": [
    {
     "name": "stdout",
     "output_type": "stream",
     "text": [
      "Recommendations for User 1:\n",
      "title\n",
      "'71 (2014)                                NaN\n",
      "'Hellboy': The Seeds of Creation (2004)   NaN\n",
      "'Round Midnight (1986)                    NaN\n",
      "'Salem's Lot (2004)                       NaN\n",
      "'Til There Was You (1997)                 NaN\n",
      "dtype: float64\n"
     ]
    }
   ],
   "source": [
    "def recommend_movies(user_id, user_movie_matrix, user_similarity_df, num_recommendations=5):\n",
    "    similar_users = user_similarity_df[user_id].sort_values(ascending=False).index[1:]  # Exclude the user itself\n",
    "    similar_users_ratings = user_movie_matrix.loc[similar_users]\n",
    "\n",
    "    # Calculate weighted average of ratings from similar users\n",
    "    weighted_ratings = similar_users_ratings.T.dot(user_similarity_df[user_id].sort_values(ascending=False)[1:])\n",
    "\n",
    "    # Exclude movies already rated by the user\n",
    "    user_rated_movies = user_movie_matrix.loc[user_id].dropna().index\n",
    "    recommendations = weighted_ratings.drop(user_rated_movies).sort_values(ascending=False).head(num_recommendations)\n",
    "    return recommendations\n",
    "\n",
    "# Example usage\n",
    "user_id = 1\n",
    "recommendations = recommend_movies(user_id, user_movie_matrix, user_similarity_df)\n",
    "print(f\"Recommendations for User {user_id}:\")\n",
    "print(recommendations)\n"
   ]
  },
  {
   "cell_type": "code",
   "execution_count": null,
   "id": "73ad3fdb",
   "metadata": {},
   "outputs": [],
   "source": []
  }
 ],
 "metadata": {
  "kernelspec": {
   "display_name": "Python 3 (ipykernel)",
   "language": "python",
   "name": "python3"
  },
  "language_info": {
   "codemirror_mode": {
    "name": "ipython",
    "version": 3
   },
   "file_extension": ".py",
   "mimetype": "text/x-python",
   "name": "python",
   "nbconvert_exporter": "python",
   "pygments_lexer": "ipython3",
   "version": "3.11.3"
  }
 },
 "nbformat": 4,
 "nbformat_minor": 5
}
