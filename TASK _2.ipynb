{
 "cells": [
  {
   "cell_type": "markdown",
   "id": "a446fc16",
   "metadata": {},
   "source": [
    "# Random Password Generator"
   ]
  },
  {
   "cell_type": "code",
   "execution_count": null,
   "id": "56d84ada",
   "metadata": {},
   "outputs": [],
   "source": [
    "import random\n",
    "letters = [\n",
    "    'A','B','C','D','E','F','G','H','I','J','K','L','a','b'\n",
    "    ,'c','d','e','f','o','v','w'\n",
    "]\n",
    "number = ['0','1','2','3','4','5','6','7','8','9']\n",
    "symbol = ['!','@','#','$','%','^','&','*','(',')','+']\n",
    "no_of_letter= int(input(\"Enter how many letter you want:\"))\n",
    "no_of_number = int(input(\"Enter how many number you want:\"))\n",
    "no_of_symbol = int(input(\"Enter how many symbol you want:\"))\n",
    "\n",
    "#ranging as given input\n",
    "#for letters\n",
    "\n",
    "password_list = []\n",
    "for i in range(0,no_of_letter):\n",
    "    \n",
    "    #every iteration choosing random number(index) in the list letters:\n",
    "    \n",
    "    ran_cho1 = random.randint(0,len(letters)-1)\n",
    "    \n",
    "    #getting the disire value using index\n",
    "    \n",
    "    val1 = letters[ran_cho1]\n",
    "    password_list.append(val1)\n",
    "    \n",
    "#for number    \n",
    "\n",
    "for a in range(0,no_of_number):\n",
    "    ran_cho2 = random.randint(0,len(number)-1)\n",
    "    val2 = number[ran_cho2]\n",
    "    password_list.append(val2)\n",
    "#for symbol   \n",
    "\n",
    "for b in range(0,no_of_symbol):\n",
    "    ran_cho3 = random.randint(0,len(symbol)-1)\n",
    "    val3 = symbol[ran_cho3]\n",
    "    password_list.append(val3)\n",
    "    random.shuffle(password_list)\n",
    "password = ''    \n",
    "for n in password_list:\n",
    "    password+=n\n",
    "print(\"Your password is :\",password)    \n"
   ]
  },
  {
   "cell_type": "code",
   "execution_count": null,
   "id": "65cef4db",
   "metadata": {},
   "outputs": [],
   "source": []
  }
 ],
 "metadata": {
  "kernelspec": {
   "display_name": "Python 3 (ipykernel)",
   "language": "python",
   "name": "python3"
  },
  "language_info": {
   "codemirror_mode": {
    "name": "ipython",
    "version": 3
   },
   "file_extension": ".py",
   "mimetype": "text/x-python",
   "name": "python",
   "nbconvert_exporter": "python",
   "pygments_lexer": "ipython3",
   "version": "3.11.3"
  }
 },
 "nbformat": 4,
 "nbformat_minor": 5
}
